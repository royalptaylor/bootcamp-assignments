{
 "cells": [
  {
   "cell_type": "code",
   "execution_count": 1,
   "metadata": {},
   "outputs": [],
   "source": [
    "import os\n",
    "from bs4 import BeautifulSoup as bs\n",
    "import requests\n",
    "import pandas as pd\n",
    "from splinter import Browser\n",
    "from selenium import webdriver"
   ]
  },
  {
   "cell_type": "code",
   "execution_count": 97,
   "metadata": {},
   "outputs": [
    {
     "data": {
      "text/plain": [
       "{'title': 'After a Reset, Curiosity Is Operating Normally',\n",
       " 'desc': 'Curiosity has returned to science operations and is once again exploring the clay unit. '}"
      ]
     },
     "execution_count": 97,
     "metadata": {},
     "output_type": "execute_result"
    }
   ],
   "source": [
    "def mars_headline():\n",
    "    url = \"https://mars.nasa.gov/api/v1/news_items/?page=0&per_page=40&order=publish_date+desc%2Ccreated_at+desc&search=&category=19%2C165%2C184%2C204&blank_scope=Latest\"\n",
    "    resp = requests.get(url).json()\n",
    "    headline = resp.get('items')[0]\n",
    "    return {\"title\": headline.get('title'), \n",
    "        \"desc\": headline.get('description')}\n",
    "\n",
    "headlines_dict = mars_headline()\n",
    "\n",
    "headlines_dict\n"
   ]
  },
  {
   "cell_type": "code",
   "execution_count": 124,
   "metadata": {},
   "outputs": [
    {
     "name": "stdout",
     "output_type": "stream",
     "text": [
      "https://www.jpl.nasa.gov//spaceimages/images/wallpaper/PIA19046-1920x1200.jpg\n"
     ]
    }
   ],
   "source": [
    "# image scrape\n",
    "\n",
    "img_url = 'https://www.jpl.nasa.gov/spaceimages/?search=&category=Mars'\n",
    "img_response = requests.get(img_url)\n",
    "img_soup = bs(img_response.text, 'html.parser')\n",
    "img_result = img_soup.find(class_='carousel_item')['style'].strip(';').strip('background-image: url').strip(\"('\").strip(\"')\")\n",
    "base_url = 'https://www.jpl.nasa.gov/'\n",
    "featured_image_url = base_url+img_result\n",
    "print(featured_image_url)"
   ]
  },
  {
   "cell_type": "code",
   "execution_count": 150,
   "metadata": {},
   "outputs": [
    {
     "data": {
      "text/plain": [
       "{'weather': 'InSight sol 92 (2019-03-01) low -94.4ºC (-137.9ºF) high -12.9ºC (8.8ºF)\\nwinds from the SW at 4.6 m/s (10.2 mph) gusting to 10.4 m/s (23.2 mph)\\npressure at 7.20 hPapic.twitter.com/zxXhRFOwTo'}"
      ]
     },
     "execution_count": 150,
     "metadata": {},
     "output_type": "execute_result"
    }
   ],
   "source": [
    "# weather scrape\n",
    "\n",
    "weather_url = 'https://twitter.com/marswxreport?lang=en'\n",
    "weather_response = requests.get(weather_url)\n",
    "weather_soup = bs(weather_response.text, 'html.parser')\n",
    "mars_weather = weather_soup.find(class_='TweetTextSize').text\n",
    "mars_weather_dict = {'weather': mars_weather}\n",
    "mars_weather_dict"
   ]
  },
  {
   "cell_type": "code",
   "execution_count": 92,
   "metadata": {},
   "outputs": [
    {
     "data": {
      "text/plain": [
       "[                      0                              1\n",
       " 0  Equatorial Diameter:                       6,792 km\n",
       " 1       Polar Diameter:                       6,752 km\n",
       " 2                 Mass:  6.42 x 10^23 kg (10.7% Earth)\n",
       " 3                Moons:            2 (Phobos & Deimos)\n",
       " 4       Orbit Distance:       227,943,824 km (1.52 AU)\n",
       " 5         Orbit Period:           687 days (1.9 years)\n",
       " 6  Surface Temperature:                  -153 to 20 °C\n",
       " 7         First Record:              2nd millennium BC\n",
       " 8          Recorded By:           Egyptian astronomers]"
      ]
     },
     "execution_count": 92,
     "metadata": {},
     "output_type": "execute_result"
    }
   ],
   "source": [
    "# facts scrape\n",
    "\n",
    "facts_table = pd.read_html('https://space-facts.com/mars/')\n",
    "facts_table"
   ]
  },
  {
   "cell_type": "code",
   "execution_count": 141,
   "metadata": {},
   "outputs": [
    {
     "name": "stdout",
     "output_type": "stream",
     "text": [
      "https://astrogeology.usgs.gov//cache/images/cfa62af2557222a02478f1fcd781d445_cerberus_enhanced.tif_full.jpg\n"
     ]
    }
   ],
   "source": [
    "# hemispheres scrape 1\n",
    "\n",
    "cerebus_url = 'https://astrogeology.usgs.gov/search/map/Mars/Viking/cerberus_enhanced'\n",
    "cerebus_response = requests.get(cerebus_url)\n",
    "cerebus_soup = bs(cerebus_response.text, 'html.parser')\n",
    "cerebus_img = cerebus_soup.find('img', class_='wide-image')['src']\n",
    "cerebus_title = cerebus_soup.find('h2', class_='title').text\n",
    "hem_base_url = 'https://astrogeology.usgs.gov/'\n",
    "cerebus_img_url = hem_base_url+cerebus_img\n",
    "print(cerebus_img_url)"
   ]
  },
  {
   "cell_type": "code",
   "execution_count": 143,
   "metadata": {},
   "outputs": [
    {
     "name": "stdout",
     "output_type": "stream",
     "text": [
      "https://astrogeology.usgs.gov//cache/images/3cdd1cbf5e0813bba925c9030d13b62e_schiaparelli_enhanced.tif_full.jpg\n"
     ]
    }
   ],
   "source": [
    "# hemspheres scrape 2\n",
    "\n",
    "schiaparelli_url = 'https://astrogeology.usgs.gov/search/map/Mars/Viking/schiaparelli_enhanced'\n",
    "schiaparelli_response = requests.get(schiaparelli_url)\n",
    "schiaparelli_soup = bs(schiaparelli_response.text, 'html.parser')\n",
    "schiaparelli_img = schiaparelli_soup.find('img', class_='wide-image')['src']\n",
    "schiaparelli_title = schiaparelli_soup.find('h2', class_='title').text\n",
    "hem_base_url = 'https://astrogeology.usgs.gov/'\n",
    "schiaparelli_img_url = hem_base_url+schiaparelli_img\n",
    "print(schiaparelli_img_url)"
   ]
  },
  {
   "cell_type": "code",
   "execution_count": 146,
   "metadata": {},
   "outputs": [
    {
     "name": "stdout",
     "output_type": "stream",
     "text": [
      "https://astrogeology.usgs.gov//cache/images/ae209b4e408bb6c3e67b6af38168cf28_syrtis_major_enhanced.tif_full.jpg\n"
     ]
    }
   ],
   "source": [
    "# hemspheres scrape 3\n",
    "\n",
    "syrtis_url = 'https://astrogeology.usgs.gov/search/map/Mars/Viking/syrtis_major_enhanced'\n",
    "syrtis_response = requests.get(syrtis_url)\n",
    "syrtis_soup = bs(syrtis_response.text, 'html.parser')\n",
    "syrtis_img = syrtis_soup.find('img', class_='wide-image')['src']\n",
    "syrtis_title = syrtis_soup.find('h2', class_='title').text\n",
    "hem_base_url = 'https://astrogeology.usgs.gov/'\n",
    "syrtis_img_url = hem_base_url+syrtis_img\n",
    "print(syrtis_img_url)"
   ]
  },
  {
   "cell_type": "code",
   "execution_count": 147,
   "metadata": {},
   "outputs": [
    {
     "name": "stdout",
     "output_type": "stream",
     "text": [
      "https://astrogeology.usgs.gov//cache/images/7cf2da4bf549ed01c17f206327be4db7_valles_marineris_enhanced.tif_full.jpg\n",
      "Valles Marineris Hemisphere Enhanced\n"
     ]
    }
   ],
   "source": [
    "# hemspheres scrape 4\n",
    "\n",
    "valles_url = 'https://astrogeology.usgs.gov/search/map/Mars/Viking/valles_marineris_enhanced'\n",
    "valles_response = requests.get(valles_url)\n",
    "valles_soup = bs(valles_response.text, 'html.parser')\n",
    "valles_img = valles_soup.find('img', class_='wide-image')['src']\n",
    "valles_title = valles_soup.find('h2', class_='title').text\n",
    "hem_base_url = 'https://astrogeology.usgs.gov/'\n",
    "valles_img_url = hem_base_url+valles_img\n",
    "print(valles_img_url)\n",
    "print(valles_title)"
   ]
  },
  {
   "cell_type": "code",
   "execution_count": null,
   "metadata": {},
   "outputs": [],
   "source": []
  },
  {
   "cell_type": "code",
   "execution_count": null,
   "metadata": {},
   "outputs": [],
   "source": [
    "# combine dictionaries: z = {**, **}"
   ]
  },
  {
   "cell_type": "code",
   "execution_count": 93,
   "metadata": {},
   "outputs": [
    {
     "ename": "NameError",
     "evalue": "name 'client' is not defined",
     "output_type": "error",
     "traceback": [
      "\u001b[1;31m---------------------------------------------------------------------------\u001b[0m",
      "\u001b[1;31mNameError\u001b[0m                                 Traceback (most recent call last)",
      "\u001b[1;32m<ipython-input-93-e4636652393b>\u001b[0m in \u001b[0;36m<module>\u001b[1;34m()\u001b[0m\n\u001b[1;32m----> 1\u001b[1;33m \u001b[0mdb\u001b[0m \u001b[1;33m=\u001b[0m \u001b[0mclient\u001b[0m\u001b[1;33m.\u001b[0m\u001b[0mtest_mars\u001b[0m\u001b[1;33m\u001b[0m\u001b[0m\n\u001b[0m\u001b[0;32m      2\u001b[0m \u001b[0mcollection\u001b[0m \u001b[1;33m=\u001b[0m \u001b[0mdb\u001b[0m\u001b[1;33m.\u001b[0m\u001b[0mtest_collection\u001b[0m\u001b[1;33m\u001b[0m\u001b[0m\n",
      "\u001b[1;31mNameError\u001b[0m: name 'client' is not defined"
     ]
    }
   ],
   "source": [
    "db = client.test_mars\n",
    "collection = db.test_collection\n",
    "\n"
   ]
  },
  {
   "cell_type": "code",
   "execution_count": null,
   "metadata": {},
   "outputs": [],
   "source": []
  }
 ],
 "metadata": {
  "kernelspec": {
   "display_name": "Python 3",
   "language": "python",
   "name": "python3"
  },
  "language_info": {
   "codemirror_mode": {
    "name": "ipython",
    "version": 3
   },
   "file_extension": ".py",
   "mimetype": "text/x-python",
   "name": "python",
   "nbconvert_exporter": "python",
   "pygments_lexer": "ipython3",
   "version": "3.7.0"
  }
 },
 "nbformat": 4,
 "nbformat_minor": 2
}
